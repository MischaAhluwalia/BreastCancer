{
 "cells": [
  {
   "cell_type": "code",
   "execution_count": 9,
   "metadata": {},
   "outputs": [],
   "source": [
    "# Import liberaries (collections of precompiled codes)\n",
    "import numpy as np # linear algebra\n",
    "import pandas as pd # data processing, CSV file I/O (e.g. pd.read_csv)\n",
    "import matplotlib.pyplot as plt"
   ]
  },
  {
   "cell_type": "code",
   "execution_count": 10,
   "metadata": {},
   "outputs": [],
   "source": [
    "# lv_filename is variable for the filename\n",
    "# df_data is variable for the table\n",
    "lv_filename = \"D:\\\\10 Klasse\\\\SourceCode\\\\BreastCancer\\\\Breast_cancer_data.csv\"\n",
    "df_data = pd.read_csv(lv_filename,sep=\";\",decimal=\",\")"
   ]
  },
  {
   "cell_type": "code",
   "execution_count": 14,
   "metadata": {},
   "outputs": [
    {
     "data": {
      "text/plain": [
       "13.37"
      ]
     },
     "execution_count": 14,
     "metadata": {},
     "output_type": "execute_result"
    }
   ],
   "source": [
    "# [] = The colume you want \n",
    "# .x() = x is what you want (mean, standard deviation)\n",
    "df_data[\"mean_radius\"].median()"
   ]
  },
  {
   "cell_type": "code",
   "execution_count": 12,
   "metadata": {},
   "outputs": [
    {
     "data": {
      "text/plain": [
       "1224.4834093464565"
      ]
     },
     "execution_count": 12,
     "metadata": {},
     "output_type": "execute_result"
    }
   ],
   "source": [
    "# Covariance (indicates the type of relationship btw X and Y)\n",
    "np.cov(df_data[\"mean_radius\"], df_data[\"mean_area\"])[0][1]"
   ]
  },
  {
   "cell_type": "code",
   "execution_count": 16,
   "metadata": {},
   "outputs": [
    {
     "data": {
      "text/plain": [
       "-0.023388515998423606"
      ]
     },
     "execution_count": 16,
     "metadata": {},
     "output_type": "execute_result"
    }
   ],
   "source": [
    "# Corelation btw X and Y\n",
    "np.corrcoef(df_data[\"mean_texture\"], df_data[\"mean_smoothness\"])[0,1]"
   ]
  }
 ],
 "metadata": {
  "interpreter": {
   "hash": "91e878ae113112553b42b8a85cc4f70ecab886c839409687006931fa6e90df26"
  },
  "kernelspec": {
   "display_name": "Python 3.9.7",
   "language": "python",
   "name": "python3"
  },
  "language_info": {
   "codemirror_mode": {
    "name": "ipython",
    "version": 3
   },
   "file_extension": ".py",
   "mimetype": "text/x-python",
   "name": "python",
   "nbconvert_exporter": "python",
   "pygments_lexer": "ipython3",
   "version": "3.9.7"
  },
  "orig_nbformat": 4
 },
 "nbformat": 4,
 "nbformat_minor": 2
}
